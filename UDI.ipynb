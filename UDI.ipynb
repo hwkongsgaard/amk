{
 "cells": [
  {
   "cell_type": "code",
   "execution_count": 132,
   "id": "1f7ce242-8901-4b00-bc3c-2584dd06174a",
   "metadata": {},
   "outputs": [],
   "source": [
    "import requests\n",
    "from bs4 import BeautifulSoup\n",
    "import json\n",
    "import pandas\n",
    "\n",
    "def hente_tabell(_):\n",
    "    # URL til nettsiden du vil trekke ut data fra\n",
    "    url = _[\"url\"]\n",
    "    # Send en GET-forespørsel for å hente nettsiden\n",
    "    response = requests.get(url)\n",
    "\n",
    "    # Sjekk om forespørselen var vellykket\n",
    "    if response.status_code == 200:\n",
    "        # Analyser HTML-innholdet med Beautiful Soup\n",
    "        soup = BeautifulSoup(response.content, \"html.parser\")\n",
    "\n",
    "        # Finn tabellen som inneholder dataen\n",
    "        table = soup.find(\"table\", attrs={\"id\":\"table-id\"})\n",
    "\n",
    "        # Hent ut tabellens overskrifter\n",
    "        headers = [header.text.strip() for header in table.find_all(\"th\")]\n",
    "\n",
    "        # Hent ut dataene fra tabellen\n",
    "        data = []\n",
    "        for row in table.find_all(\"tr\")[1:]:\n",
    "            row_data = [td.text.strip() for td in row.find_all(\"td\")]\n",
    "            row_data.append(_[\"type\"])\n",
    "            headers.append(\"type\")\n",
    "            data.append(dict(zip(headers, row_data)))\n",
    "            \n",
    "        return data\n",
    "    else:\n",
    "        print(\"Feil: Kan ikke hente nettsiden\")\n",
    "        return None"
   ]
  },
  {
   "cell_type": "code",
   "execution_count": 133,
   "id": "f584ce8b-3431-4c82-8efc-ced3c3a4cfdd",
   "metadata": {},
   "outputs": [],
   "source": [
    "urls = [{\"type\":\"Kollektiv beskyttelse\", \"url\":\"https://www.udi.no/statistikk-og-analyse/statistikk/soknader-om-beskyttelse-etter-hjemmel-om-massefluktsituasjon--kollektiv-beskyttelse-etter-statsborgerskap-og-maned-2024/\"},\n",
    " {\"type\":\"Kollektiv Beskyttelse EMA\", \"url\":\"https://www.udi.no/statistikk-og-analyse/statistikk/soknader-om-beskyttelse-etter-hjemmel-om-massefluktsituasjon-kollektiv--beskyttelse-fra-enslige-mindrearige-etter-soknadsmaned-og-statsborgerskap-2024/\"},\n",
    " {\"type\":\"Asylsoknader EMA\", \"url\":\"https://www.udi.no/statistikk-og-analyse/statistikk/asylsoknader-fra-enslige-mindrearige-etter-soknadsmaned-og-statsborgerskap-2024/\"},\n",
    " {\"type\":\"Asylsoknader\",\"url\":\"https://www.udi.no/statistikk-og-analyse/statistikk/asylsoknader-etter-statsborgerskap-og-maned-2024/\"}]\n",
    " "
   ]
  },
  {
   "cell_type": "code",
   "execution_count": 134,
   "id": "a6e978a0-9827-4187-a085-ef8335e6b8e2",
   "metadata": {},
   "outputs": [],
   "source": [
    "tabs = []\n",
    "for x in urls:\n",
    "    tab = hente_tabell(x)\n",
    "    for row in tab:\n",
    "        tabs.append(row)"
   ]
  },
  {
   "cell_type": "code",
   "execution_count": 135,
   "id": "e714f0ae-b6f8-42d4-af59-ec496e98d7bf",
   "metadata": {},
   "outputs": [],
   "source": []
  },
  {
   "cell_type": "code",
   "execution_count": 136,
   "id": "d7dd6842-9157-4e36-a332-5625890128c5",
   "metadata": {},
   "outputs": [],
   "source": [
    "d = pandas.DataFrame(tabs)"
   ]
  },
  {
   "cell_type": "code",
   "execution_count": 137,
   "id": "d1371c1f-ed06-4aa7-ba25-b9fedcbaec2c",
   "metadata": {},
   "outputs": [],
   "source": [
    "d[\"Total\"] = d.Total.apply(int)"
   ]
  },
  {
   "cell_type": "code",
   "execution_count": null,
   "id": "226a6d4c-1fee-4a74-96de-904543c98d9b",
   "metadata": {},
   "outputs": [],
   "source": []
  },
  {
   "cell_type": "code",
   "execution_count": 138,
   "id": "2b246eb8-37d7-4f15-bba3-2897b23125a5",
   "metadata": {},
   "outputs": [
    {
     "data": {
      "text/plain": [
       "type\n",
       "Asylsoknader                  2656\n",
       "Asylsoknader EMA               178\n",
       "Kollektiv Beskyttelse EMA      432\n",
       "Kollektiv beskyttelse        11372\n",
       "Name: Total, dtype: int64"
      ]
     },
     "execution_count": 138,
     "metadata": {},
     "output_type": "execute_result"
    }
   ],
   "source": [
    "d.groupby(\"type\").Total.sum()"
   ]
  },
  {
   "cell_type": "code",
   "execution_count": null,
   "id": "d713f28c-06b6-4a93-b476-980e0101fa7a",
   "metadata": {},
   "outputs": [],
   "source": []
  }
 ],
 "metadata": {
  "kernelspec": {
   "display_name": "Python 3 (ipykernel)",
   "language": "python",
   "name": "python3"
  },
  "language_info": {
   "codemirror_mode": {
    "name": "ipython",
    "version": 3
   },
   "file_extension": ".py",
   "mimetype": "text/x-python",
   "name": "python",
   "nbconvert_exporter": "python",
   "pygments_lexer": "ipython3",
   "version": "3.8.10"
  }
 },
 "nbformat": 4,
 "nbformat_minor": 5
}
