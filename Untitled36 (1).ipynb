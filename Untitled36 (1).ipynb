{
 "cells": [
  {
   "cell_type": "code",
   "execution_count": 16,
   "id": "f6e27d22-1468-405d-949b-cb99696953e1",
   "metadata": {},
   "outputs": [],
   "source": [
    "import requests\n",
    "from bs4 import BeautifulSoup\n",
    "import json\n",
    "\n",
    "# URL til nettsiden du vil trekke ut data fra\n",
    "url = \"https://www.udi.no/statistikk-og-analyse/statistikk/registrerte-asylsoknader-fra-ukrainske-borgere-de-siste-syv-dager-2022/\"\n",
    "\n",
    "# Send en GET-forespørsel for å hente nettsiden\n",
    "response = requests.get(url)\n",
    "\n",
    "# Sjekk om forespørselen var vellykket\n",
    "if response.status_code == 200:\n",
    "    # Analyser HTML-innholdet med Beautiful Soup\n",
    "    soup = BeautifulSoup(response.content, \"html.parser\")\n",
    "    \n",
    "    # Finn tabellen som inneholder dataen\n",
    "    table = soup.find(\"table\", attrs={\"id\":\"table-id\"})\n",
    "\n",
    "    # Hent ut tabellens overskrifter\n",
    "    headers = [header.text.strip() for header in table.find_all(\"th\")]\n",
    "\n",
    "    # Hent ut dataene fra tabellen\n",
    "    data = []\n",
    "    for row in table.find_all(\"tr\")[1:]:\n",
    "        row_data = [td.text.strip() for td in row.find_all(\"td\")]\n",
    "        data.append(dict(zip(headers, row_data)))\n",
    "else:\n",
    "    print(\"Feil: Kan ikke hente nettsiden\")\n"
   ]
  },
  {
   "cell_type": "code",
   "execution_count": 17,
   "id": "eff7f9bb-fee3-487b-a304-828962f70cef",
   "metadata": {},
   "outputs": [
    {
     "data": {
      "text/plain": [
       "[{'Registreringsdato': '12.05.2024', 'Antall søknader': '15'},\n",
       " {'Registreringsdato': '11.05.2024', 'Antall søknader': '75'},\n",
       " {'Registreringsdato': '10.05.2024', 'Antall søknader': '62'},\n",
       " {'Registreringsdato': '09.05.2024', 'Antall søknader': '43'},\n",
       " {'Registreringsdato': '08.05.2024', 'Antall søknader': '49'},\n",
       " {'Registreringsdato': '07.05.2024', 'Antall søknader': '32'},\n",
       " {'Registreringsdato': '06.05.2024', 'Antall søknader': '21'}]"
      ]
     },
     "execution_count": 17,
     "metadata": {},
     "output_type": "execute_result"
    }
   ],
   "source": [
    "data"
   ]
  },
  {
   "cell_type": "code",
   "execution_count": 18,
   "id": "2d9deb97-612b-44ae-9026-a037462b0540",
   "metadata": {},
   "outputs": [
    {
     "data": {
      "text/plain": [
       "\u001b[0;31mSignature:\u001b[0m \u001b[0msoup\u001b[0m\u001b[0;34m.\u001b[0m\u001b[0mfind\u001b[0m\u001b[0;34m(\u001b[0m\u001b[0mname\u001b[0m\u001b[0;34m=\u001b[0m\u001b[0;32mNone\u001b[0m\u001b[0;34m,\u001b[0m \u001b[0mattrs\u001b[0m\u001b[0;34m=\u001b[0m\u001b[0;34m{\u001b[0m\u001b[0;34m}\u001b[0m\u001b[0;34m,\u001b[0m \u001b[0mrecursive\u001b[0m\u001b[0;34m=\u001b[0m\u001b[0;32mTrue\u001b[0m\u001b[0;34m,\u001b[0m \u001b[0mstring\u001b[0m\u001b[0;34m=\u001b[0m\u001b[0;32mNone\u001b[0m\u001b[0;34m,\u001b[0m \u001b[0;34m**\u001b[0m\u001b[0mkwargs\u001b[0m\u001b[0;34m)\u001b[0m\u001b[0;34m\u001b[0m\u001b[0;34m\u001b[0m\u001b[0m\n",
       "\u001b[0;31mDocstring:\u001b[0m\n",
       "Look in the children of this PageElement and find the first\n",
       "PageElement that matches the given criteria.\n",
       "\n",
       "All find_* methods take a common set of arguments. See the online\n",
       "documentation for detailed explanations.\n",
       "\n",
       ":param name: A filter on tag name.\n",
       ":param attrs: A dictionary of filters on attribute values.\n",
       ":param recursive: If this is True, find() will perform a\n",
       "    recursive search of this PageElement's children. Otherwise,\n",
       "    only the direct children will be considered.\n",
       ":param limit: Stop looking after finding this many results.\n",
       ":kwargs: A dictionary of filters on attribute values.\n",
       ":return: A PageElement.\n",
       ":rtype: bs4.element.Tag | bs4.element.NavigableString\n",
       "\u001b[0;31mFile:\u001b[0m      ~/.local/lib/python3.8/site-packages/bs4/element.py\n",
       "\u001b[0;31mType:\u001b[0m      method\n"
      ]
     },
     "metadata": {},
     "output_type": "display_data"
    }
   ],
   "source": [
    "soup.find?"
   ]
  },
  {
   "cell_type": "code",
   "execution_count": 14,
   "id": "26a5532b-1c5d-437a-8170-f5a870eb1ade",
   "metadata": {},
   "outputs": [],
   "source": [
    "import requests\n",
    "from bs4 import BeautifulSoup\n",
    "import json\n",
    "\n",
    "# URL til nettsiden du vil trekke ut data fra\n",
    "url = \"https://www.udi.no/statistikk-og-analyse/statistikk/asylsoknader-etter-statsborgerskap-og-maned-2024/\"\n",
    "\n",
    "# Send en GET-forespørsel for å hente nettsiden\n",
    "response = requests.get(url)\n",
    "\n",
    "# Sjekk om forespørselen var vellykket\n",
    "if response.status_code == 200:\n",
    "    # Analyser HTML-innholdet med Beautiful Soup\n",
    "    soup = BeautifulSoup(response.content, \"html.parser\")\n",
    "    \n",
    "    # Finn tabellen som inneholder dataen\n",
    "    table = soup.find(\"table\", attrs={\"id\":\"table-id\"})\n",
    "\n",
    "    # Hent ut tabellens overskrifter\n",
    "    headers = [header.text.strip() for header in table.find_all(\"th\")]\n",
    "\n",
    "    # Hent ut dataene fra tabellen\n",
    "    data = []\n",
    "    for row in table.find_all(\"tr\")[1:]:\n",
    "        row_data = [td.text.strip() for td in row.find_all(\"td\")]\n",
    "        data.append(dict(zip(headers, row_data)))\n",
    "else:\n",
    "    print(\"Feil: Kan ikke hente nettsiden\")"
   ]
  },
  {
   "cell_type": "code",
   "execution_count": null,
   "id": "41968ed6-3d0e-4a49-ba9f-657b17cf8ec1",
   "metadata": {},
   "outputs": [],
   "source": [
    "https://www.udi.no/statistikk-og-analyse/statistikk/asylsoknader-etter-statsborgerskap-og-maned-2024/"
   ]
  },
  {
   "cell_type": "code",
   "execution_count": null,
   "id": "682cf5c7-5446-46dd-a9fa-dded278cc5ff",
   "metadata": {},
   "outputs": [],
   "source": [
    "https://www.udi.no/statistikk-og-analyse/statistikk/asylsoknader-fra-enslige-mindrearige-etter-soknadsmaned-og-statsborgerskap-2024/"
   ]
  },
  {
   "cell_type": "code",
   "execution_count": null,
   "id": "8f663e1d-2bfd-4278-b7c7-4534ed2b74dc",
   "metadata": {},
   "outputs": [],
   "source": [
    "https://www.udi.no/statistikk-og-analyse/statistikk/soknader-om-beskyttelse-etter-hjemmel-om-massefluktsituasjon-kollektiv--beskyttelse-fra-enslige-mindrearige-etter-soknadsmaned-og-statsborgerskap-2024/"
   ]
  },
  {
   "cell_type": "code",
   "execution_count": 74,
   "id": "1f7ce242-8901-4b00-bc3c-2584dd06174a",
   "metadata": {},
   "outputs": [],
   "source": [
    "import requests\n",
    "from bs4 import BeautifulSoup\n",
    "import json\n",
    "\n",
    "def hente_tabell(_):\n",
    "    # URL til nettsiden du vil trekke ut data fra\n",
    "    url = _[\"url\"]\n",
    "    # Send en GET-forespørsel for å hente nettsiden\n",
    "    response = requests.get(url)\n",
    "\n",
    "    # Sjekk om forespørselen var vellykket\n",
    "    if response.status_code == 200:\n",
    "        # Analyser HTML-innholdet med Beautiful Soup\n",
    "        soup = BeautifulSoup(response.content, \"html.parser\")\n",
    "\n",
    "        # Finn tabellen som inneholder dataen\n",
    "        table = soup.find(\"table\", attrs={\"id\":\"table-id\"})\n",
    "\n",
    "        # Hent ut tabellens overskrifter\n",
    "        headers = [header.text.strip() for header in table.find_all(\"th\")]\n",
    "\n",
    "        # Hent ut dataene fra tabellen\n",
    "        data = []\n",
    "        for row in table.find_all(\"tr\")[1:]:\n",
    "            row_data = [td.text.strip() for td in row.find_all(\"td\")]\n",
    "            row_data.append(_[\"type\"])\n",
    "            headers.append(\"type\")\n",
    "            data.append(dict(zip(headers, row_data)))\n",
    "            \n",
    "        return data\n",
    "    else:\n",
    "        print(\"Feil: Kan ikke hente nettsiden\")\n",
    "        return None"
   ]
  },
  {
   "cell_type": "code",
   "execution_count": 38,
   "id": "d3c7afbf-4b00-4600-9a5a-21c8873fe65e",
   "metadata": {},
   "outputs": [
    {
     "data": {
      "text/plain": [
       "[{'Statsborgerskap': 'Ukraina',\n",
       "  'Jan': '48',\n",
       "  'Feb': '61',\n",
       "  'Mar': '63',\n",
       "  'Apr': '44',\n",
       "  'Total': '216'},\n",
       " {'Statsborgerskap': 'Total',\n",
       "  'Jan': '48',\n",
       "  'Feb': '61',\n",
       "  'Mar': '63',\n",
       "  'Apr': '44',\n",
       "  'Total': '216'}]"
      ]
     },
     "execution_count": 38,
     "metadata": {},
     "output_type": "execute_result"
    }
   ],
   "source": [
    "data"
   ]
  },
  {
   "cell_type": "code",
   "execution_count": 21,
   "id": "2f340d2b-ca2e-45a1-952e-b52f6a513925",
   "metadata": {},
   "outputs": [
    {
     "ename": "SyntaxError",
     "evalue": "invalid syntax (34509479.py, line 1)",
     "output_type": "error",
     "traceback": [
      "\u001b[0;36m  Input \u001b[0;32mIn [21]\u001b[0;36m\u001b[0m\n\u001b[0;31m    https://www.udi.no/statistikk-og-analyse/statistikk/soknader-om-beskyttelse-etter-hjemmel-om-massefluktsituasjon--kollektiv-beskyttelse-etter-statsborgerskap-og-maned-2024/\u001b[0m\n\u001b[0m          ^\u001b[0m\n\u001b[0;31mSyntaxError\u001b[0m\u001b[0;31m:\u001b[0m invalid syntax\n"
     ]
    }
   ],
   "source": [
    "https://www.udi.no/statistikk-og-analyse/statistikk/soknader-om-beskyttelse-etter-hjemmel-om-massefluktsituasjon--kollektiv-beskyttelse-etter-statsborgerskap-og-maned-2024/"
   ]
  },
  {
   "cell_type": "code",
   "execution_count": 31,
   "id": "f584ce8b-3431-4c82-8efc-ced3c3a4cfdd",
   "metadata": {},
   "outputs": [],
   "source": [
    "urls = [{\"type\":\"Kollektiv beskyttelse\", \"url\":\"https://www.udi.no/statistikk-og-analyse/statistikk/soknader-om-beskyttelse-etter-hjemmel-om-massefluktsituasjon--kollektiv-beskyttelse-etter-statsborgerskap-og-maned-2024/\"},\n",
    " {\"type\":\"Kollektiv Beskyttelse EMA\", \"url\":\"https://www.udi.no/statistikk-og-analyse/statistikk/soknader-om-beskyttelse-etter-hjemmel-om-massefluktsituasjon-kollektiv--beskyttelse-fra-enslige-mindrearige-etter-soknadsmaned-og-statsborgerskap-2024/\"},\n",
    " {\"type\":\"Asylsoknader EMA\", \"url\":\"https://www.udi.no/statistikk-og-analyse/statistikk/asylsoknader-fra-enslige-mindrearige-etter-soknadsmaned-og-statsborgerskap-2024/\"},\n",
    " {\"type\":\"Asylsoknader\",\"url\":\"https://www.udi.no/statistikk-og-analyse/statistikk/asylsoknader-etter-statsborgerskap-og-maned-2024/\"}]\n",
    " "
   ]
  },
  {
   "cell_type": "code",
   "execution_count": 86,
   "id": "a6e978a0-9827-4187-a085-ef8335e6b8e2",
   "metadata": {},
   "outputs": [],
   "source": [
    "tabs = []\n",
    "for x in urls:\n",
    "    tab = hente_tabell(x)\n",
    "    for row in tab:\n",
    "        tabs.append(row)"
   ]
  },
  {
   "cell_type": "code",
   "execution_count": 80,
   "id": "e714f0ae-b6f8-42d4-af59-ec496e98d7bf",
   "metadata": {},
   "outputs": [],
   "source": [
    "import pandas"
   ]
  },
  {
   "cell_type": "code",
   "execution_count": 89,
   "id": "d7dd6842-9157-4e36-a332-5625890128c5",
   "metadata": {},
   "outputs": [],
   "source": [
    "d = pandas.DataFrame(tabs)"
   ]
  },
  {
   "cell_type": "code",
   "execution_count": 92,
   "id": "d1371c1f-ed06-4aa7-ba25-b9fedcbaec2c",
   "metadata": {},
   "outputs": [
    {
     "data": {
      "text/plain": [
       "Index(['Statsborgerskap', 'Jan', 'Feb', 'Mar', 'Apr', 'Total', 'type'], dtype='object')"
      ]
     },
     "execution_count": 92,
     "metadata": {},
     "output_type": "execute_result"
    }
   ],
   "source": [
    "d[\"Total\"] = d.Total.apply(int)"
   ]
  },
  {
   "cell_type": "code",
   "execution_count": 123,
   "id": "226a6d4c-1fee-4a74-96de-904543c98d9b",
   "metadata": {},
   "outputs": [],
   "source": []
  },
  {
   "cell_type": "code",
   "execution_count": null,
   "id": "2b246eb8-37d7-4f15-bba3-2897b23125a5",
   "metadata": {},
   "outputs": [],
   "source": [
    "d.groupby(\"type\").Total.sum()"
   ]
  },
  {
   "cell_type": "code",
   "execution_count": null,
   "id": "d713f28c-06b6-4a93-b476-980e0101fa7a",
   "metadata": {},
   "outputs": [],
   "source": []
  }
 ],
 "metadata": {
  "kernelspec": {
   "display_name": "Python 3 (ipykernel)",
   "language": "python",
   "name": "python3"
  },
  "language_info": {
   "codemirror_mode": {
    "name": "ipython",
    "version": 3
   },
   "file_extension": ".py",
   "mimetype": "text/x-python",
   "name": "python",
   "nbconvert_exporter": "python",
   "pygments_lexer": "ipython3",
   "version": "3.8.10"
  }
 },
 "nbformat": 4,
 "nbformat_minor": 5
}
